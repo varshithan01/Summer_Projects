{
 "cells": [
  {
   "cell_type": "code",
   "execution_count": 1,
   "metadata": {},
   "outputs": [
    {
     "data": {
      "text/html": [
       "<style>.container { width:95% !important; }</style>"
      ],
      "text/plain": [
       "<IPython.core.display.HTML object>"
      ]
     },
     "metadata": {},
     "output_type": "display_data"
    },
    {
     "data": {
      "text/plain": [
       "4490"
      ]
     },
     "execution_count": 1,
     "metadata": {},
     "output_type": "execute_result"
    }
   ],
   "source": [
    "#Libraries\n",
    "import requests\n",
    "from bs4 import BeautifulSoup\n",
    "import pandas as pd\n",
    "import numpy as np\n",
    "\n",
    "#Display options\n",
    "from IPython.core.display import display, HTML\n",
    "display(HTML(\"<style>.container { width:95% !important; }</style>\"))\n",
    "\n",
    "#Looping through 450 most recent pages to get the article urls to scrape\n",
    "\n",
    "links_full = []\n",
    "\n",
    "for each_page in range(1, 450):\n",
    "    base_url = 'https://www.wired.com/most-recent/page/' + str(each_page) + '/'\n",
    "    for each in base_url:\n",
    "        link = []\n",
    "        resp = requests.get(base_url)\n",
    "        site = resp.content\n",
    "        soup = BeautifulSoup(site, 'html.parser')\n",
    "        ul = soup.find_all('ul', {'class': 'archive-list-component__items'})\n",
    "        for item in ul:\n",
    "            for li in item.find_all('li'):\n",
    "                a = li.find('a')\n",
    "                link.append('https://www.wired.com' + a['href'])\n",
    "    links_full.append(link)\n",
    "    \n",
    "flattened_links = [each for sublist in links_full for each in sublist]\n",
    "len(flattened_links)"
   ]
  },
  {
   "cell_type": "code",
   "execution_count": 2,
   "metadata": {},
   "outputs": [
    {
     "data": {
      "text/plain": [
       "['https://www.wired.com/story/children-emoji-language-learning/',\n",
       " 'https://www.wired.com/story/tor-anonymity-easier-than-ever/',\n",
       " 'https://www.wired.com/story/best-wired-photo-stories-2018/',\n",
       " 'https://www.wired.com/story/best-internet-moments-2018/',\n",
       " 'https://www.wired.com/story/how-big-tech-co-opted-time-well-spent/']"
      ]
     },
     "execution_count": 2,
     "metadata": {},
     "output_type": "execute_result"
    }
   ],
   "source": [
    "#Filtering for only article urls\n",
    "story_urls = [s for s in flattened_links if '/story/' in s] \n",
    "story_urls[:5]"
   ]
  },
  {
   "cell_type": "code",
   "execution_count": 4,
   "metadata": {
    "collapsed": true
   },
   "outputs": [],
   "source": [
    "title, descr, url,  news_kw, pub_date, pub_time, text = [], [], [], [], [], [], []\n",
    "\n",
    "for each in story_urls:   \n",
    "    resp = requests.get(each)\n",
    "    site = resp.content\n",
    "    soup = BeautifulSoup(site, 'html.parser')\n",
    "\n",
    "    title.append(soup.find('meta', {'property': 'og:title'})[\"content\"])\n",
    "    descr.append(soup.find('meta', {'property': 'og:description'})[\"content\"])\n",
    "    url.append(soup.find('meta', {'property': 'og:url'})[\"content\"])\n",
    "    news_kw.append(soup.find('meta', {'name':'news_keywords'})[\"content\"])\n",
    "    pub_date.append(soup.find('time', {'class': \"date-mdy\"}).text)\n",
    "    pub_time.append(soup.find('time', {'class': \"date-gia\"}).text)\n",
    "\n",
    "    paragraphs = soup.find_all('p')\n",
    "    para_all = [each.text for each in paragraphs]\n",
    "    text.append(para_all)"
   ]
  },
  {
   "cell_type": "code",
   "execution_count": 5,
   "metadata": {},
   "outputs": [
    {
     "data": {
      "text/plain": [
       "4220"
      ]
     },
     "execution_count": 5,
     "metadata": {},
     "output_type": "execute_result"
    }
   ],
   "source": [
    "len(title)"
   ]
  },
  {
   "cell_type": "code",
   "execution_count": 7,
   "metadata": {},
   "outputs": [
    {
     "data": {
      "text/html": [
       "<div>\n",
       "<style scoped>\n",
       "    .dataframe tbody tr th:only-of-type {\n",
       "        vertical-align: middle;\n",
       "    }\n",
       "\n",
       "    .dataframe tbody tr th {\n",
       "        vertical-align: top;\n",
       "    }\n",
       "\n",
       "    .dataframe thead th {\n",
       "        text-align: right;\n",
       "    }\n",
       "</style>\n",
       "<table border=\"1\" class=\"dataframe\">\n",
       "  <thead>\n",
       "    <tr style=\"text-align: right;\">\n",
       "      <th></th>\n",
       "      <th>title</th>\n",
       "      <th>descr</th>\n",
       "      <th>url</th>\n",
       "      <th>news_kw</th>\n",
       "      <th>pub_date</th>\n",
       "      <th>text</th>\n",
       "      <th>pub_hour</th>\n",
       "    </tr>\n",
       "  </thead>\n",
       "  <tbody>\n",
       "    <tr>\n",
       "      <th>0</th>\n",
       "      <td>Children Are Using Emoji for Digital-Age Langu...</td>\n",
       "      <td>When preliterate kids type strings of emoji, i...</td>\n",
       "      <td>https://www.wired.com/story/children-emoji-lan...</td>\n",
       "      <td>ideas,Emoji,children,reading,language</td>\n",
       "      <td>2019-01-01</td>\n",
       "      <td>[A couple of months ago, NPR reporter Lulu Mil...</td>\n",
       "      <td>08</td>\n",
       "    </tr>\n",
       "    <tr>\n",
       "      <th>1</th>\n",
       "      <td>Tor Is Easier Than Ever. Time to Give It a Try</td>\n",
       "      <td>Been curious about Tor but worried it's too co...</td>\n",
       "      <td>https://www.wired.com/story/tor-anonymity-easi...</td>\n",
       "      <td>security,Tor,privacy,Internet,anonymity,Year i...</td>\n",
       "      <td>2019-01-01</td>\n",
       "      <td>[You probably know about the digital anonymity...</td>\n",
       "      <td>07</td>\n",
       "    </tr>\n",
       "    <tr>\n",
       "      <th>2</th>\n",
       "      <td>The Top WIRED Photo Stories of 2018</td>\n",
       "      <td>Want to give your eyes a break from the news c...</td>\n",
       "      <td>https://www.wired.com/story/best-wired-photo-s...</td>\n",
       "      <td>photo,Photography</td>\n",
       "      <td>2018-12-31</td>\n",
       "      <td>[The Hellish E-Waste Graveyards Where Computer...</td>\n",
       "      <td>09</td>\n",
       "    </tr>\n",
       "    <tr>\n",
       "      <th>3</th>\n",
       "      <td>The 2018 Internet Moments That Made Being Onli...</td>\n",
       "      <td>'A Star Is Born' birthed great memes and Zenda...</td>\n",
       "      <td>https://www.wired.com/story/best-internet-mome...</td>\n",
       "      <td>culture,Year in Review,memes,internet culture</td>\n",
       "      <td>2018-12-31</td>\n",
       "      <td>[The internet, as recent Senate reports have s...</td>\n",
       "      <td>09</td>\n",
       "    </tr>\n",
       "    <tr>\n",
       "      <th>4</th>\n",
       "      <td>Big Tech Is Here to Help You Fight Excessive P...</td>\n",
       "      <td>How the large tech corporations turned \"digita...</td>\n",
       "      <td>https://www.wired.com/story/how-big-tech-co-op...</td>\n",
       "      <td>gear,Year in Review,digital wellness,Tristan H...</td>\n",
       "      <td>2018-12-31</td>\n",
       "      <td>[In early February, the technologist Tristan H...</td>\n",
       "      <td>07</td>\n",
       "    </tr>\n",
       "  </tbody>\n",
       "</table>\n",
       "</div>"
      ],
      "text/plain": [
       "                                               title  \\\n",
       "0  Children Are Using Emoji for Digital-Age Langu...   \n",
       "1     Tor Is Easier Than Ever. Time to Give It a Try   \n",
       "2                The Top WIRED Photo Stories of 2018   \n",
       "3  The 2018 Internet Moments That Made Being Onli...   \n",
       "4  Big Tech Is Here to Help You Fight Excessive P...   \n",
       "\n",
       "                                               descr  \\\n",
       "0  When preliterate kids type strings of emoji, i...   \n",
       "1  Been curious about Tor but worried it's too co...   \n",
       "2  Want to give your eyes a break from the news c...   \n",
       "3  'A Star Is Born' birthed great memes and Zenda...   \n",
       "4  How the large tech corporations turned \"digita...   \n",
       "\n",
       "                                                 url  \\\n",
       "0  https://www.wired.com/story/children-emoji-lan...   \n",
       "1  https://www.wired.com/story/tor-anonymity-easi...   \n",
       "2  https://www.wired.com/story/best-wired-photo-s...   \n",
       "3  https://www.wired.com/story/best-internet-mome...   \n",
       "4  https://www.wired.com/story/how-big-tech-co-op...   \n",
       "\n",
       "                                             news_kw   pub_date  \\\n",
       "0              ideas,Emoji,children,reading,language 2019-01-01   \n",
       "1  security,Tor,privacy,Internet,anonymity,Year i... 2019-01-01   \n",
       "2                                  photo,Photography 2018-12-31   \n",
       "3      culture,Year in Review,memes,internet culture 2018-12-31   \n",
       "4  gear,Year in Review,digital wellness,Tristan H... 2018-12-31   \n",
       "\n",
       "                                                text pub_hour  \n",
       "0  [A couple of months ago, NPR reporter Lulu Mil...       08  \n",
       "1  [You probably know about the digital anonymity...       07  \n",
       "2  [The Hellish E-Waste Graveyards Where Computer...       09  \n",
       "3  [The internet, as recent Senate reports have s...       09  \n",
       "4  [In early February, the technologist Tristan H...       07  "
      ]
     },
     "execution_count": 7,
     "metadata": {},
     "output_type": "execute_result"
    }
   ],
   "source": [
    "#Putting it into a df\n",
    "df = pd.DataFrame([title, descr, url, news_kw, pub_date, pub_time, text]).T\n",
    "df.columns = ['title', 'descr', 'url', 'news_kw', 'pub_date', 'pub_time', 'text']\n",
    "df['pub_date'] = pd.to_datetime(df['pub_date'])\n",
    "df['pub_time'] = pd.to_datetime(df['pub_time'])\n",
    "df['pub_hour'] = df['pub_time'].apply(lambda x: x.strftime('%H'))\n",
    "df = df.drop(['pub_time'], 1)\n",
    "df.head()"
   ]
  },
  {
   "cell_type": "code",
   "execution_count": 21,
   "metadata": {},
   "outputs": [
    {
     "name": "stdout",
     "output_type": "stream",
     "text": [
      "2018-01-01 00:00:00\n",
      "2018-12-31 00:00:00\n"
     ]
    }
   ],
   "source": [
    "#Only selecting articles in 2018. Since I scraped the 'most recent' pages there's some overlap with 2017 and 2018 articles\n",
    "df_18 = df[(df['pub_date'] >= pd.to_datetime('2018-01-01')) & (df['pub_date'] <= pd.to_datetime('2018-12-31'))]\n",
    "print(df_18['pub_date'].min())\n",
    "print(df_18['pub_date'].max())"
   ]
  },
  {
   "cell_type": "code",
   "execution_count": 23,
   "metadata": {},
   "outputs": [
    {
     "data": {
      "text/plain": [
       "(4102, 7)"
      ]
     },
     "execution_count": 23,
     "metadata": {},
     "output_type": "execute_result"
    }
   ],
   "source": [
    "df_18.shape"
   ]
  }
 ],
 "metadata": {
  "kernelspec": {
   "display_name": "Python 3",
   "language": "python",
   "name": "python3"
  },
  "language_info": {
   "codemirror_mode": {
    "name": "ipython",
    "version": 3
   },
   "file_extension": ".py",
   "mimetype": "text/x-python",
   "name": "python",
   "nbconvert_exporter": "python",
   "pygments_lexer": "ipython3",
   "version": "3.6.3"
  }
 },
 "nbformat": 4,
 "nbformat_minor": 2
}
