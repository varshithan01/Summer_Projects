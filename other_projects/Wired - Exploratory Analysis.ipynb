{
 "cells": [
  {
   "cell_type": "code",
   "execution_count": 4,
   "metadata": {},
   "outputs": [
    {
     "data": {
      "text/html": [
       "<style>.container { width:95% !important; }</style>"
      ],
      "text/plain": [
       "<IPython.core.display.HTML object>"
      ]
     },
     "metadata": {},
     "output_type": "display_data"
    },
    {
     "data": {
      "text/html": [
       "<div>\n",
       "<style scoped>\n",
       "    .dataframe tbody tr th:only-of-type {\n",
       "        vertical-align: middle;\n",
       "    }\n",
       "\n",
       "    .dataframe tbody tr th {\n",
       "        vertical-align: top;\n",
       "    }\n",
       "\n",
       "    .dataframe thead th {\n",
       "        text-align: right;\n",
       "    }\n",
       "</style>\n",
       "<table border=\"1\" class=\"dataframe\">\n",
       "  <thead>\n",
       "    <tr style=\"text-align: right;\">\n",
       "      <th></th>\n",
       "      <th>title</th>\n",
       "      <th>descr</th>\n",
       "      <th>url</th>\n",
       "      <th>news_kw</th>\n",
       "      <th>pub_date</th>\n",
       "      <th>text</th>\n",
       "      <th>pub_hour</th>\n",
       "    </tr>\n",
       "  </thead>\n",
       "  <tbody>\n",
       "    <tr>\n",
       "      <th>0</th>\n",
       "      <td>The Top WIRED Photo Stories of 2018</td>\n",
       "      <td>Want to give your eyes a break from the news c...</td>\n",
       "      <td>https://www.wired.com/story/best-wired-photo-s...</td>\n",
       "      <td>photo,Photography</td>\n",
       "      <td>2018-12-31</td>\n",
       "      <td>['The Hellish E-Waste Graveyards Where Compute...</td>\n",
       "      <td>9</td>\n",
       "    </tr>\n",
       "    <tr>\n",
       "      <th>1</th>\n",
       "      <td>The 2018 Internet Moments That Made Being Onli...</td>\n",
       "      <td>'A Star Is Born' birthed great memes and Zenda...</td>\n",
       "      <td>https://www.wired.com/story/best-internet-mome...</td>\n",
       "      <td>culture,Year in Review,memes,internet culture</td>\n",
       "      <td>2018-12-31</td>\n",
       "      <td>[\"The internet, as recent Senate reports have ...</td>\n",
       "      <td>9</td>\n",
       "    </tr>\n",
       "    <tr>\n",
       "      <th>2</th>\n",
       "      <td>Big Tech Is Here to Help You Fight Excessive P...</td>\n",
       "      <td>How the large tech corporations turned \"digita...</td>\n",
       "      <td>https://www.wired.com/story/how-big-tech-co-op...</td>\n",
       "      <td>gear,Year in Review,digital wellness,Tristan H...</td>\n",
       "      <td>2018-12-31</td>\n",
       "      <td>['In early February, the technologist Tristan ...</td>\n",
       "      <td>7</td>\n",
       "    </tr>\n",
       "    <tr>\n",
       "      <th>3</th>\n",
       "      <td>How to Follow New Horizons' Historic Flyby of ...</td>\n",
       "      <td>On New Year's Eve, NASA's probe will reach Ult...</td>\n",
       "      <td>https://www.wired.com/story/how-to-follow-new-...</td>\n",
       "      <td>science,New Horizons,space,NASA,Astronomy,astr...</td>\n",
       "      <td>2018-12-31</td>\n",
       "      <td>[\"For the past 13 years, NASA's New Horizons s...</td>\n",
       "      <td>7</td>\n",
       "    </tr>\n",
       "    <tr>\n",
       "      <th>4</th>\n",
       "      <td>The Worst Hacks of 2018</td>\n",
       "      <td>From the Marriott revelation and Facebook melt...</td>\n",
       "      <td>https://www.wired.com/story/worst-hacks-2018-f...</td>\n",
       "      <td>security,Year in Review,hacking,cybersecurity,...</td>\n",
       "      <td>2018-12-31</td>\n",
       "      <td>['After years of targeted hacks, epic heists, ...</td>\n",
       "      <td>7</td>\n",
       "    </tr>\n",
       "  </tbody>\n",
       "</table>\n",
       "</div>"
      ],
      "text/plain": [
       "                                               title  \\\n",
       "0                The Top WIRED Photo Stories of 2018   \n",
       "1  The 2018 Internet Moments That Made Being Onli...   \n",
       "2  Big Tech Is Here to Help You Fight Excessive P...   \n",
       "3  How to Follow New Horizons' Historic Flyby of ...   \n",
       "4                            The Worst Hacks of 2018   \n",
       "\n",
       "                                               descr  \\\n",
       "0  Want to give your eyes a break from the news c...   \n",
       "1  'A Star Is Born' birthed great memes and Zenda...   \n",
       "2  How the large tech corporations turned \"digita...   \n",
       "3  On New Year's Eve, NASA's probe will reach Ult...   \n",
       "4  From the Marriott revelation and Facebook melt...   \n",
       "\n",
       "                                                 url  \\\n",
       "0  https://www.wired.com/story/best-wired-photo-s...   \n",
       "1  https://www.wired.com/story/best-internet-mome...   \n",
       "2  https://www.wired.com/story/how-big-tech-co-op...   \n",
       "3  https://www.wired.com/story/how-to-follow-new-...   \n",
       "4  https://www.wired.com/story/worst-hacks-2018-f...   \n",
       "\n",
       "                                             news_kw   pub_date  \\\n",
       "0                                  photo,Photography 2018-12-31   \n",
       "1      culture,Year in Review,memes,internet culture 2018-12-31   \n",
       "2  gear,Year in Review,digital wellness,Tristan H... 2018-12-31   \n",
       "3  science,New Horizons,space,NASA,Astronomy,astr... 2018-12-31   \n",
       "4  security,Year in Review,hacking,cybersecurity,... 2018-12-31   \n",
       "\n",
       "                                                text  pub_hour  \n",
       "0  ['The Hellish E-Waste Graveyards Where Compute...         9  \n",
       "1  [\"The internet, as recent Senate reports have ...         9  \n",
       "2  ['In early February, the technologist Tristan ...         7  \n",
       "3  [\"For the past 13 years, NASA's New Horizons s...         7  \n",
       "4  ['After years of targeted hacks, epic heists, ...         7  "
      ]
     },
     "metadata": {},
     "output_type": "display_data"
    },
    {
     "name": "stdout",
     "output_type": "stream",
     "text": [
      "There are 4102 articles and 7 columns\n"
     ]
    }
   ],
   "source": [
    "import pandas as pd\n",
    "import numpy as np\n",
    "import matplotlib.pyplot as plt\n",
    "import seaborn as sns\n",
    "from gensim.models import Phrases\n",
    "from collections import Counter\n",
    "\n",
    "from IPython.core.display import display, HTML\n",
    "display(HTML(\"<style>.container { width:95% !important; }</style>\"))\n",
    "import warnings\n",
    "warnings.filterwarnings('ignore')\n",
    "sns.set_style('darkgrid')\n",
    "pd.options.display.float_format = '{:,.2f}'.format\n",
    "%matplotlib inline\n",
    "\n",
    "#Loading the data\n",
    "df = pd.read_csv('your/path')\n",
    "df['pub_date'] = pd.to_datetime(df['pub_date'])\n",
    "display(df.head())\n",
    "print('There are {} articles and {} columns'.format(df.shape[0], df.shape[1]))"
   ]
  },
  {
   "cell_type": "code",
   "execution_count": 5,
   "metadata": {},
   "outputs": [
    {
     "data": {
      "text/html": [
       "<div>\n",
       "<style scoped>\n",
       "    .dataframe tbody tr th:only-of-type {\n",
       "        vertical-align: middle;\n",
       "    }\n",
       "\n",
       "    .dataframe tbody tr th {\n",
       "        vertical-align: top;\n",
       "    }\n",
       "\n",
       "    .dataframe thead th {\n",
       "        text-align: right;\n",
       "    }\n",
       "</style>\n",
       "<table border=\"1\" class=\"dataframe\">\n",
       "  <thead>\n",
       "    <tr style=\"text-align: right;\">\n",
       "      <th></th>\n",
       "      <th>Articles by Day</th>\n",
       "    </tr>\n",
       "  </thead>\n",
       "  <tbody>\n",
       "    <tr>\n",
       "      <th>count</th>\n",
       "      <td>365.00</td>\n",
       "    </tr>\n",
       "    <tr>\n",
       "      <th>mean</th>\n",
       "      <td>11.24</td>\n",
       "    </tr>\n",
       "    <tr>\n",
       "      <th>std</th>\n",
       "      <td>5.78</td>\n",
       "    </tr>\n",
       "    <tr>\n",
       "      <th>min</th>\n",
       "      <td>3.00</td>\n",
       "    </tr>\n",
       "    <tr>\n",
       "      <th>25%</th>\n",
       "      <td>7.00</td>\n",
       "    </tr>\n",
       "    <tr>\n",
       "      <th>50%</th>\n",
       "      <td>11.00</td>\n",
       "    </tr>\n",
       "    <tr>\n",
       "      <th>75%</th>\n",
       "      <td>14.00</td>\n",
       "    </tr>\n",
       "    <tr>\n",
       "      <th>max</th>\n",
       "      <td>58.00</td>\n",
       "    </tr>\n",
       "  </tbody>\n",
       "</table>\n",
       "</div>"
      ],
      "text/plain": [
       "       Articles by Day\n",
       "count           365.00\n",
       "mean             11.24\n",
       "std               5.78\n",
       "min               3.00\n",
       "25%               7.00\n",
       "50%              11.00\n",
       "75%              14.00\n",
       "max              58.00"
      ]
     },
     "execution_count": 5,
     "metadata": {},
     "output_type": "execute_result"
    }
   ],
   "source": [
    "#Descriptive statistics for the number of articles published per day\n",
    "art_day = pd.DataFrame(df.groupby('pub_date')['pub_date'].count().describe()).rename(columns = {'pub_date': 'Articles by Day'})\n",
    "art_day"
   ]
  },
  {
   "cell_type": "code",
   "execution_count": 6,
   "metadata": {},
   "outputs": [
    {
     "data": {
      "image/png": "[encoded data removed]",
      "text/plain": [
       "<Figure size 936x576 with 1 Axes>"
      ]
     },
     "metadata": {},
     "output_type": "display_data"
    }
   ],
   "source": [
    "#Looking at the number of articles per month\n",
    "df['pub_month'] = df['pub_date'].dt.month \n",
    "tot_per_month = df.groupby(['pub_month','pub_date'])['pub_date'].count()\n",
    "avg = np.round(np.mean(tot_per_month.groupby('pub_month').sum()), decimals=2)\n",
    "tot_per_month = pd.DataFrame(tot_per_month.groupby('pub_month').sum().reset_index()).rename(columns = {'pub_month': 'Month of the Year', 'pub_date': '# of Articles'})\n",
    "\n",
    "fig, ax = plt.subplots()\n",
    "fig.set_size_inches(13, 8)\n",
    "sns.set(style=\"darkgrid\") \n",
    "plt.bar(tot_per_month['Month of the Year'], tot_per_month['# of Articles'], color='#4A8292')\n",
    "plt.xlabel('Month of the Year', fontsize=14)\n",
    "plt.xticks(fontsize=12)\n",
    "ax.set_xticks(list(range(1,13)))           \n",
    "plt.ylabel('Number of Articles', fontsize=14)\n",
    "plt.yticks(fontsize=12)\n",
    "axes = plt.gca()\n",
    "axes.set_ylim([0, tot_per_month['# of Articles'].max() + 50])\n",
    "ax.axhline(avg, color='green', linewidth=1, linestyle='--')\n",
    "plt.text(.5,350,'Avg {}'.format(avg), color='#2d2d2d', fontsize=11.5)\n",
    "plt.title('# of Wired Articles Published by Month - 2018', fontsize=16)\n",
    "plt.show()"
   ]
  },
  {
   "cell_type": "code",
   "execution_count": 7,
   "metadata": {},
   "outputs": [
    {
     "data": {
      "image/png": "[encoded data removed]",
      "text/plain": [
       "<Figure size 936x576 with 1 Axes>"
      ]
     },
     "metadata": {},
     "output_type": "display_data"
    }
   ],
   "source": [
    "#10 most popular hours to publish articles\n",
    "df2 = df.groupby(['pub_hour'])['pub_hour'].count()\n",
    "df2 = df2.sort_values(ascending=False).head(10)\n",
    "\n",
    "fig, ax = plt.subplots()\n",
    "fig.set_size_inches(13, 8)\n",
    "sns.set(style=\"darkgrid\") \n",
    "plt.bar(df2.index, df2.values, color='#4A8292')\n",
    "plt.xlabel('Published Hour', fontsize=14)\n",
    "plt.xticks(fontsize=12)\n",
    "ax.set_xticks(list(range(0,24)))           \n",
    "plt.ylabel('Number of Articles', fontsize=14)\n",
    "plt.yticks(fontsize=12)\n",
    "axes = plt.gca()\n",
    "axes.set_ylim([0, df2.max() + 50])\n",
    "plt.title('# of Wired Articles Published by Hour', fontsize=16)\n",
    "plt.show()"
   ]
  },
  {
   "cell_type": "code",
   "execution_count": 8,
   "metadata": {},
   "outputs": [
    {
     "data": {
      "image/png": "[encoded data removed]",
      "text/plain": [
       "<Figure size 936x576 with 2 Axes>"
      ]
     },
     "metadata": {},
     "output_type": "display_data"
    }
   ],
   "source": [
    "#Heatmap for published hour by day of the week\n",
    "df['dow'] = df['pub_date'].dt.weekday_name\n",
    "df_pub_time = df.groupby(['pub_hour', 'dow'])['text'].count().reset_index()\n",
    "df_pub_time = pd.pivot_table(df_pub_time, values = 'text', columns = 'dow', index = 'pub_hour', aggfunc='sum')\n",
    "df_pub_time = df_pub_time.fillna(0)\n",
    "cols = ['Sunday', 'Monday', 'Tuesday', 'Wednesday', 'Thursday', 'Friday', 'Saturday']\n",
    "df_pub_time = df_pub_time[cols]\n",
    "\n",
    "fig, ax = plt.subplots()\n",
    "fig.set_size_inches(13, 8)\n",
    "sns.heatmap(df_pub_time, cmap=\"YlGnBu\")\n",
    "plt.xlabel('Day of the Week', fontsize=14)\n",
    "plt.xticks(fontsize=12)\n",
    "plt.ylabel('Published Hour', fontsize=14)\n",
    "plt.yticks(fontsize=12)\n",
    "plt.title('Wired Articles Published by Hour and Day of the Week - 2018', fontsize=16)\n",
    "plt.show()"
   ]
  },
  {
   "cell_type": "code",
   "execution_count": 9,
   "metadata": {},
   "outputs": [
    {
     "data": {
      "text/html": [
       "<div>\n",
       "<style scoped>\n",
       "    .dataframe tbody tr th:only-of-type {\n",
       "        vertical-align: middle;\n",
       "    }\n",
       "\n",
       "    .dataframe tbody tr th {\n",
       "        vertical-align: top;\n",
       "    }\n",
       "\n",
       "    .dataframe thead th {\n",
       "        text-align: right;\n",
       "    }\n",
       "</style>\n",
       "<table border=\"1\" class=\"dataframe\">\n",
       "  <thead>\n",
       "    <tr style=\"text-align: right;\">\n",
       "      <th></th>\n",
       "      <th>word_count</th>\n",
       "    </tr>\n",
       "  </thead>\n",
       "  <tbody>\n",
       "    <tr>\n",
       "      <th>count</th>\n",
       "      <td>4,102.00</td>\n",
       "    </tr>\n",
       "    <tr>\n",
       "      <th>mean</th>\n",
       "      <td>1,220.58</td>\n",
       "    </tr>\n",
       "    <tr>\n",
       "      <th>std</th>\n",
       "      <td>947.16</td>\n",
       "    </tr>\n",
       "    <tr>\n",
       "      <th>min</th>\n",
       "      <td>144.00</td>\n",
       "    </tr>\n",
       "    <tr>\n",
       "      <th>25%</th>\n",
       "      <td>786.00</td>\n",
       "    </tr>\n",
       "    <tr>\n",
       "      <th>50%</th>\n",
       "      <td>1,025.50</td>\n",
       "    </tr>\n",
       "    <tr>\n",
       "      <th>75%</th>\n",
       "      <td>1,337.75</td>\n",
       "    </tr>\n",
       "    <tr>\n",
       "      <th>max</th>\n",
       "      <td>12,130.00</td>\n",
       "    </tr>\n",
       "  </tbody>\n",
       "</table>\n",
       "</div>"
      ],
      "text/plain": [
       "       word_count\n",
       "count    4,102.00\n",
       "mean     1,220.58\n",
       "std        947.16\n",
       "min        144.00\n",
       "25%        786.00\n",
       "50%      1,025.50\n",
       "75%      1,337.75\n",
       "max     12,130.00"
      ]
     },
     "execution_count": 9,
     "metadata": {},
     "output_type": "execute_result"
    }
   ],
   "source": [
    "#Next I'll look at word_count by article\n",
    "#Each article has a disclaimer at the bottom starting with CNMN Collections so I'll just remove that first\n",
    "df['text'] = df['text'].apply(lambda x: x.split('CNMN Collection')[0])\n",
    "#Getting the word_count for each article\n",
    "df['word_count'] = df['text'].apply(lambda x: len(str(x).split(' ')))\n",
    "#Descriptive statistics\n",
    "pd.DataFrame(df['word_count'].describe())"
   ]
  },
  {
   "cell_type": "code",
   "execution_count": 10,
   "metadata": {},
   "outputs": [
    {
     "data": {
      "image/png": "[encoded data removed]",
      "text/plain": [
       "<Figure size 864x648 with 2 Axes>"
      ]
     },
     "metadata": {},
     "output_type": "display_data"
    }
   ],
   "source": [
    "x = df['word_count']\n",
    "\n",
    "fig, (ax_box, ax_hist) = plt.subplots(2, sharex=True,  figsize=(12,9), gridspec_kw={\"height_ratios\": (.18, .82)})\n",
    "sns.boxplot(x, ax=ax_box, fliersize=2, color = '#96C5A5')\n",
    "sns.distplot(x, ax=ax_hist, bins = 200, kde=False, color = '#654473')\n",
    "sns.despine(ax=ax_hist)\n",
    "sns.despine(ax=ax_box, left=True)\n",
    "plt.ylabel('Frequency', fontsize=14)\n",
    "plt.xlabel('Article Word Count', fontsize=14)\n",
    "plt.xticks(np.arange(min(x)-144, max(x)+1,1000), fontsize=13)\n",
    "plt.yticks(fontsize=13)\n",
    "ax_box.set_xlabel('')\n",
    "ax_box.set_title('Word Count by Wired Article: 2018 - Distribution', fontsize=16)\n",
    "plt.show()"
   ]
  },
  {
   "cell_type": "code",
   "execution_count": 40,
   "metadata": {},
   "outputs": [
    {
     "data": {
      "text/html": [
       "<div>\n",
       "<style scoped>\n",
       "    .dataframe tbody tr th:only-of-type {\n",
       "        vertical-align: middle;\n",
       "    }\n",
       "\n",
       "    .dataframe tbody tr th {\n",
       "        vertical-align: top;\n",
       "    }\n",
       "\n",
       "    .dataframe thead th {\n",
       "        text-align: right;\n",
       "    }\n",
       "</style>\n",
       "<table border=\"1\" class=\"dataframe\">\n",
       "  <thead>\n",
       "    <tr style=\"text-align: right;\">\n",
       "      <th></th>\n",
       "      <th>title</th>\n",
       "      <th>url</th>\n",
       "      <th>word_count</th>\n",
       "    </tr>\n",
       "  </thead>\n",
       "  <tbody>\n",
       "    <tr>\n",
       "      <th>2224</th>\n",
       "      <td>Inside the Crypto World's Biggest Scandal</td>\n",
       "      <td>https://www.wired.com/story/tezos-blockchain-l...</td>\n",
       "      <td>12130</td>\n",
       "    </tr>\n",
       "    <tr>\n",
       "      <th>3823</th>\n",
       "      <td>How to Design Beacons for Humanity's Afterlife</td>\n",
       "      <td>https://www.wired.com/story/how-to-design-beac...</td>\n",
       "      <td>11902</td>\n",
       "    </tr>\n",
       "    <tr>\n",
       "      <th>472</th>\n",
       "      <td>Has Silicon Valley Lost Its Soul? The Case for...</td>\n",
       "      <td>https://www.wired.com/story/intelligence-squar...</td>\n",
       "      <td>11430</td>\n",
       "    </tr>\n",
       "    <tr>\n",
       "      <th>3678</th>\n",
       "      <td>Inside Facebook's Two Years of Hell</td>\n",
       "      <td>https://www.wired.com/story/inside-facebook-ma...</td>\n",
       "      <td>11242</td>\n",
       "    </tr>\n",
       "    <tr>\n",
       "      <th>3075</th>\n",
       "      <td>2001: A Space Odyssey Predicted the Future—50 ...</td>\n",
       "      <td>https://www.wired.com/story/2001-a-space-odyss...</td>\n",
       "      <td>11182</td>\n",
       "    </tr>\n",
       "  </tbody>\n",
       "</table>\n",
       "</div>"
      ],
      "text/plain": [
       "                                                  title  \\\n",
       "2224          Inside the Crypto World's Biggest Scandal   \n",
       "3823     How to Design Beacons for Humanity's Afterlife   \n",
       "472   Has Silicon Valley Lost Its Soul? The Case for...   \n",
       "3678                Inside Facebook's Two Years of Hell   \n",
       "3075  2001: A Space Odyssey Predicted the Future—50 ...   \n",
       "\n",
       "                                                    url  word_count  \n",
       "2224  https://www.wired.com/story/tezos-blockchain-l...       12130  \n",
       "3823  https://www.wired.com/story/how-to-design-beac...       11902  \n",
       "472   https://www.wired.com/story/intelligence-squar...       11430  \n",
       "3678  https://www.wired.com/story/inside-facebook-ma...       11242  \n",
       "3075  https://www.wired.com/story/2001-a-space-odyss...       11182  "
      ]
     },
     "execution_count": 40,
     "metadata": {},
     "output_type": "execute_result"
    }
   ],
   "source": [
    "#Top 5 articles for word_count\n",
    "sort = df.sort_values(by = 'word_count', ascending = False).head()\n",
    "sort[['title', 'url', 'word_count']]"
   ]
  },
  {
   "cell_type": "code",
   "execution_count": 20,
   "metadata": {},
   "outputs": [
    {
     "data": {
      "text/plain": [
       "['photo',\n",
       " 'photography',\n",
       " 'culture',\n",
       " 'year_in_review',\n",
       " 'memes',\n",
       " 'internet_culture',\n",
       " 'gear',\n",
       " 'year_in_review',\n",
       " 'digital_wellness',\n",
       " 'tristan_harris']"
      ]
     },
     "execution_count": 20,
     "metadata": {},
     "output_type": "execute_result"
    }
   ],
   "source": [
    "#Analyzing the key words for each article\n",
    "kw_list = df['news_kw'].tolist()\n",
    "\n",
    "#Function to split each word on the comma, flatten into a single list, replace the whitespace with an underscore and lowercase everything\n",
    "def kw_clean(list_of_keywords):\n",
    "    tokenize = [(each).split(',') for each in list_of_keywords]\n",
    "    flatten = [each for sublist in tokenize for each in sublist]\n",
    "    chain = [each.replace(' ', '_') for each in flatten]\n",
    "    lower = [each.lower() for each in chain]\n",
    "    return lower\n",
    "\n",
    "cleaned_kw = kw_clean(kw_list)\n",
    "\n",
    "#Example\n",
    "cleaned_kw[:10]"
   ]
  },
  {
   "cell_type": "code",
   "execution_count": 21,
   "metadata": {},
   "outputs": [
    {
     "data": {
      "text/plain": [
       "[('science', 915),\n",
       " ('business', 716),\n",
       " ('culture', 673),\n",
       " ('security', 526),\n",
       " ('transportation', 510),\n",
       " ('gear', 484),\n",
       " ('facebook', 422),\n",
       " ('google', 208),\n",
       " ('climate_change', 196),\n",
       " ('artificial_intelligence', 194),\n",
       " ('photo', 168),\n",
       " ('self-driving_cars', 161),\n",
       " ('social_media', 159),\n",
       " ('ideas', 151),\n",
       " ('movies', 149),\n",
       " ('apple', 139),\n",
       " ('cybersecurity', 137),\n",
       " ('backchannel', 134),\n",
       " ('physics', 125),\n",
       " ('privacy', 123)]"
      ]
     },
     "execution_count": 21,
     "metadata": {},
     "output_type": "execute_result"
    }
   ],
   "source": [
    "#Top 20 most frequent keywords\n",
    "from collections import Counter\n",
    "with_counts = Counter(cleaned_kw)\n",
    "top = with_counts.most_common(20)\n",
    "top"
   ]
  },
  {
   "cell_type": "code",
   "execution_count": 22,
   "metadata": {},
   "outputs": [
    {
     "data": {
      "text/plain": [
       "[('artificial_intelligence', 194),\n",
       " ('business', 86),\n",
       " ('machine_learning', 38),\n",
       " ('science', 26),\n",
       " ('google', 20),\n",
       " ('facebook', 16),\n",
       " ('microsoft', 12),\n",
       " ('backchannel', 11),\n",
       " ('ai', 11),\n",
       " ('ideas', 9),\n",
       " ('amazon', 8),\n",
       " ('facial_recognition', 7),\n",
       " ('culture', 7),\n",
       " ('longreads', 7),\n",
       " ('neuroscience', 7),\n",
       " ('wired25', 7),\n",
       " ('china', 6),\n",
       " ('self-driving_cars', 6),\n",
       " ('deep_learning', 6),\n",
       " ('neural_networks', 5)]"
      ]
     },
     "execution_count": 22,
     "metadata": {},
     "output_type": "execute_result"
    }
   ],
   "source": [
    "#Top 20 key words that appear alongside the ai key word\n",
    "df['news_kw'] = df['news_kw'].apply(lambda x: x.lower())\n",
    "df_ai = df.loc[df['news_kw'].str.contains('artificial intelligence|^ai$')]\n",
    "\n",
    "ai_kw_list = df_ai['news_kw'].tolist()\n",
    "cleaned_ai_kw = kw_clean(ai_kw_list)\n",
    "with_counts = Counter(cleaned_ai_kw)\n",
    "top = with_counts.most_common(20)\n",
    "top"
   ]
  },
  {
   "cell_type": "code",
   "execution_count": 23,
   "metadata": {},
   "outputs": [
    {
     "data": {
      "text/plain": [
       "ai_kw\n",
       "0    3966\n",
       "1     136\n",
       "Name: ai_kw, dtype: int64"
      ]
     },
     "execution_count": 23,
     "metadata": {},
     "output_type": "execute_result"
    }
   ],
   "source": [
    "#Creating a column for whether an article contains an ai keyword (1) or not (0)\n",
    "df['ai_kw'] = np.where(df['news_kw'].str.contains(\"artificial intelligence|^ai$\", case=False), 1, 0)\n",
    "df.groupby(['ai_kw'])['ai_kw'].count()"
   ]
  },
  {
   "cell_type": "code",
   "execution_count": 24,
   "metadata": {},
   "outputs": [
    {
     "data": {
      "image/png": "[encoded data removed]",
      "text/plain": [
       "<Figure size 1080x576 with 1 Axes>"
      ]
     },
     "metadata": {},
     "output_type": "display_data"
    }
   ],
   "source": [
    "#Articles with ai news keyword by month\n",
    "df_ai_by_month = df.groupby(['pub_month', 'ai_kw'])['text'].count().reset_index()\n",
    "df_ai_by_month = df_ai_by_month.loc[df_ai_by_month['ai_kw'] == 1]\n",
    "df_ai_by_month = df_ai_by_month.drop(['ai_kw'], 1)\n",
    "\n",
    "fig, ax = plt.subplots()\n",
    "fig.set_size_inches(15, 8)\n",
    "sns.set(style=\"darkgrid\") \n",
    "plt.bar(df_ai_by_month['pub_month'], df_ai_by_month['text'], color='#4A8292')\n",
    "plt.xlabel('Published Month', fontsize=14)\n",
    "plt.xticks(fontsize=12)\n",
    "ax.set_xticks(list(range(1,13)))\n",
    "plt.ylabel('Number of Articles', fontsize=14)\n",
    "plt.yticks(fontsize=12)\n",
    "plt.title('# of Wired Articles with AI News Keyword by Month', fontsize=16)\n",
    "axes = plt.gca()\n",
    "axes.set_ylim([0, df_ai_by_month['text'].max() + 2])\n",
    "plt.show()"
   ]
  },
  {
   "cell_type": "code",
   "execution_count": 25,
   "metadata": {
    "collapsed": true
   },
   "outputs": [],
   "source": [
    "#Function to preprocess the text. Tokenize, lower, expand contactions, lemmatize, remove punctuation, numbers and stop words\n",
    "%run nlp_utils_wired.ipynb #Loading additional functions not shown here but provided in the notebook\n",
    "\n",
    "def pre_process_text(text):\n",
    "    tokenized = casual_tokenizer(text)\n",
    "    lower = [item.lower() for item in tokenized] \n",
    "    decontract = [expandContractions(item, c_re=c_re) for item in lower]\n",
    "    tagged = nltk.pos_tag(decontract)\n",
    "    lemma = lemma_wordnet(tagged)\n",
    "    no_num = [re.sub('[0-9]+', '', each) for each in lemma]\n",
    "    no_punc = [w for w in no_num if w not in punc]\n",
    "    no_stop = [w for w in no_punc if not w in stop_words]\n",
    "    return no_stop"
   ]
  },
  {
   "cell_type": "code",
   "execution_count": 26,
   "metadata": {},
   "outputs": [
    {
     "data": {
      "text/html": [
       "<div>\n",
       "<style scoped>\n",
       "    .dataframe tbody tr th:only-of-type {\n",
       "        vertical-align: middle;\n",
       "    }\n",
       "\n",
       "    .dataframe tbody tr th {\n",
       "        vertical-align: top;\n",
       "    }\n",
       "\n",
       "    .dataframe thead th {\n",
       "        text-align: right;\n",
       "    }\n",
       "</style>\n",
       "<table border=\"1\" class=\"dataframe\">\n",
       "  <thead>\n",
       "    <tr style=\"text-align: right;\">\n",
       "      <th></th>\n",
       "      <th>title</th>\n",
       "      <th>descr</th>\n",
       "      <th>url</th>\n",
       "      <th>news_kw</th>\n",
       "      <th>pub_date</th>\n",
       "      <th>text</th>\n",
       "      <th>pub_hour</th>\n",
       "      <th>pub_month</th>\n",
       "      <th>dow</th>\n",
       "      <th>Word Count</th>\n",
       "      <th>ai_kw</th>\n",
       "      <th>clean_text</th>\n",
       "    </tr>\n",
       "  </thead>\n",
       "  <tbody>\n",
       "    <tr>\n",
       "      <th>0</th>\n",
       "      <td>The Top WIRED Photo Stories of 2018</td>\n",
       "      <td>Want to give your eyes a break from the news c...</td>\n",
       "      <td>https://www.wired.com/story/best-wired-photo-s...</td>\n",
       "      <td>photo,photography</td>\n",
       "      <td>2018-12-31</td>\n",
       "      <td>['The Hellish E-Waste Graveyards Where Compute...</td>\n",
       "      <td>9</td>\n",
       "      <td>12</td>\n",
       "      <td>Monday</td>\n",
       "      <td>967</td>\n",
       "      <td>0</td>\n",
       "      <td>[hellish, e-waste, graveyard, computer, metal,...</td>\n",
       "    </tr>\n",
       "    <tr>\n",
       "      <th>1</th>\n",
       "      <td>The 2018 Internet Moments That Made Being Onli...</td>\n",
       "      <td>'A Star Is Born' birthed great memes and Zenda...</td>\n",
       "      <td>https://www.wired.com/story/best-internet-mome...</td>\n",
       "      <td>culture,year in review,memes,internet culture</td>\n",
       "      <td>2018-12-31</td>\n",
       "      <td>[\"The internet, as recent Senate reports have ...</td>\n",
       "      <td>9</td>\n",
       "      <td>12</td>\n",
       "      <td>Monday</td>\n",
       "      <td>1705</td>\n",
       "      <td>0</td>\n",
       "      <td>[internet, recent, senate, report, awful, conf...</td>\n",
       "    </tr>\n",
       "    <tr>\n",
       "      <th>2</th>\n",
       "      <td>Big Tech Is Here to Help You Fight Excessive P...</td>\n",
       "      <td>How the large tech corporations turned \"digita...</td>\n",
       "      <td>https://www.wired.com/story/how-big-tech-co-op...</td>\n",
       "      <td>gear,year in review,digital wellness,tristan h...</td>\n",
       "      <td>2018-12-31</td>\n",
       "      <td>['In early February, the technologist Tristan ...</td>\n",
       "      <td>7</td>\n",
       "      <td>12</td>\n",
       "      <td>Monday</td>\n",
       "      <td>1182</td>\n",
       "      <td>0</td>\n",
       "      <td>[early, february, technologist, tristan, harri...</td>\n",
       "    </tr>\n",
       "    <tr>\n",
       "      <th>3</th>\n",
       "      <td>How to Follow New Horizons' Historic Flyby of ...</td>\n",
       "      <td>On New Year's Eve, NASA's probe will reach Ult...</td>\n",
       "      <td>https://www.wired.com/story/how-to-follow-new-...</td>\n",
       "      <td>science,new horizons,space,nasa,astronomy,astr...</td>\n",
       "      <td>2018-12-31</td>\n",
       "      <td>[\"For the past 13 years, NASA's New Horizons s...</td>\n",
       "      <td>7</td>\n",
       "      <td>12</td>\n",
       "      <td>Monday</td>\n",
       "      <td>865</td>\n",
       "      <td>0</td>\n",
       "      <td>[past, year, nasa's, new, horizon, spacecraft,...</td>\n",
       "    </tr>\n",
       "    <tr>\n",
       "      <th>4</th>\n",
       "      <td>The Worst Hacks of 2018</td>\n",
       "      <td>From the Marriott revelation and Facebook melt...</td>\n",
       "      <td>https://www.wired.com/story/worst-hacks-2018-f...</td>\n",
       "      <td>security,year in review,hacking,cybersecurity,...</td>\n",
       "      <td>2018-12-31</td>\n",
       "      <td>['After years of targeted hacks, epic heists, ...</td>\n",
       "      <td>7</td>\n",
       "      <td>12</td>\n",
       "      <td>Monday</td>\n",
       "      <td>1544</td>\n",
       "      <td>0</td>\n",
       "      <td>[year, targeted, hack, epic, heist, run, data,...</td>\n",
       "    </tr>\n",
       "  </tbody>\n",
       "</table>\n",
       "</div>"
      ],
      "text/plain": [
       "                                               title  \\\n",
       "0                The Top WIRED Photo Stories of 2018   \n",
       "1  The 2018 Internet Moments That Made Being Onli...   \n",
       "2  Big Tech Is Here to Help You Fight Excessive P...   \n",
       "3  How to Follow New Horizons' Historic Flyby of ...   \n",
       "4                            The Worst Hacks of 2018   \n",
       "\n",
       "                                               descr  \\\n",
       "0  Want to give your eyes a break from the news c...   \n",
       "1  'A Star Is Born' birthed great memes and Zenda...   \n",
       "2  How the large tech corporations turned \"digita...   \n",
       "3  On New Year's Eve, NASA's probe will reach Ult...   \n",
       "4  From the Marriott revelation and Facebook melt...   \n",
       "\n",
       "                                                 url  \\\n",
       "0  https://www.wired.com/story/best-wired-photo-s...   \n",
       "1  https://www.wired.com/story/best-internet-mome...   \n",
       "2  https://www.wired.com/story/how-big-tech-co-op...   \n",
       "3  https://www.wired.com/story/how-to-follow-new-...   \n",
       "4  https://www.wired.com/story/worst-hacks-2018-f...   \n",
       "\n",
       "                                             news_kw   pub_date  \\\n",
       "0                                  photo,photography 2018-12-31   \n",
       "1      culture,year in review,memes,internet culture 2018-12-31   \n",
       "2  gear,year in review,digital wellness,tristan h... 2018-12-31   \n",
       "3  science,new horizons,space,nasa,astronomy,astr... 2018-12-31   \n",
       "4  security,year in review,hacking,cybersecurity,... 2018-12-31   \n",
       "\n",
       "                                                text  pub_hour  pub_month  \\\n",
       "0  ['The Hellish E-Waste Graveyards Where Compute...         9         12   \n",
       "1  [\"The internet, as recent Senate reports have ...         9         12   \n",
       "2  ['In early February, the technologist Tristan ...         7         12   \n",
       "3  [\"For the past 13 years, NASA's New Horizons s...         7         12   \n",
       "4  ['After years of targeted hacks, epic heists, ...         7         12   \n",
       "\n",
       "      dow  Word Count  ai_kw  \\\n",
       "0  Monday         967      0   \n",
       "1  Monday        1705      0   \n",
       "2  Monday        1182      0   \n",
       "3  Monday         865      0   \n",
       "4  Monday        1544      0   \n",
       "\n",
       "                                          clean_text  \n",
       "0  [hellish, e-waste, graveyard, computer, metal,...  \n",
       "1  [internet, recent, senate, report, awful, conf...  \n",
       "2  [early, february, technologist, tristan, harri...  \n",
       "3  [past, year, nasa's, new, horizon, spacecraft,...  \n",
       "4  [year, targeted, hack, epic, heist, run, data,...  "
      ]
     },
     "execution_count": 26,
     "metadata": {},
     "output_type": "execute_result"
    }
   ],
   "source": [
    "#Applying the function to the df and creating a new column with the processed text\n",
    "df['clean_text'] = df['text'].apply(lambda x: pre_process_text(x))\n",
    "df.head()"
   ]
  },
  {
   "cell_type": "code",
   "execution_count": 27,
   "metadata": {},
   "outputs": [
    {
     "name": "stdout",
     "output_type": "stream",
     "text": [
      "['hellish', 'e-waste', 'graveyard', 'computer', 'metal', 'wonder', 'old', 'battery', 'phone', 'light-up', 'toy', 'wind', 'answer', 'dump', 'ghana', 'china', 'india', 'kai', 'löffelbein', 'eye-opening', 'book', 'ctrl-x', 'topography', 'e-waste', 'rare', 'look', 'inside', 'korean', 'dmz', 'scary', 'place', 'earth', 'nthe', 'mile', 'korean', 'demilitarize', 'zone', 'contain', 'large', 'concentration', 'soldier', 'artillery', 'world', 'park', 'jongwoo', 'receive', 'rare', 'permission', 'photograph', 'inside', 'zone', 'accompany', 'course', 'squadron', 'soldier', 'hilarious', 'image', 'bored', 'tourist', 'world', 'neach', 'summer', 'traveler', 'descend', 'europe', 'church', 'museum', 'landmarks', 'laurence', 'stephen', 'right', 'photograph', 'photograph', 'image', 'appear', 'fun', 'new', 'book', 'year', 'ominous', 'view', \"japan's\", 'new', 'concrete', 'seawall', 'ngray', 'wall', 'line', 'coast', 'northeast', 'japan', 'entire', 'village', 'destroy', 'tsunami', 'tadashi', 'ono', 'document', 'impose', 'structure']...\n"
     ]
    }
   ],
   "source": [
    "#Example of processed text\n",
    "print(str(df['clean_text'][0][:100]) + '...')"
   ]
  },
  {
   "cell_type": "code",
   "execution_count": 28,
   "metadata": {},
   "outputs": [
    {
     "data": {
      "text/plain": [
       "[('ai', 1231),\n",
       " ('company', 774),\n",
       " ('make', 699),\n",
       " ('people', 697),\n",
       " ('human', 673),\n",
       " ('work', 629),\n",
       " ('technology', 556),\n",
       " ('machine', 520),\n",
       " ('year', 504),\n",
       " ('google', 498),\n",
       " ('new', 494),\n",
       " ('data', 480),\n",
       " ('think', 443),\n",
       " ('time', 431),\n",
       " ('thing', 406),\n",
       " ('help', 386),\n",
       " ('algorithm', 372),\n",
       " ('computer', 370),\n",
       " ('intelligence', 369),\n",
       " ('image', 361)]"
      ]
     },
     "execution_count": 28,
     "metadata": {},
     "output_type": "execute_result"
    }
   ],
   "source": [
    "#Simple word frequency (top 50) for articles with the ai news keyword tag\n",
    "df_ai = df.loc[df['news_kw'].str.contains('artificial intelligence|^ai$')]\n",
    "text_list = df_ai['clean_text'].tolist()\n",
    "flatten = [each for sublist in text_list for each in sublist]\n",
    "with_counts = Counter(flatten)\n",
    "with_counts.most_common(20)"
   ]
  },
  {
   "cell_type": "code",
   "execution_count": 29,
   "metadata": {},
   "outputs": [
    {
     "data": {
      "text/plain": [
       "[('artificial_intelligence', 243),\n",
       " ('machine_learning', 167),\n",
       " ('machine_learn', 97),\n",
       " ('neural_network', 88),\n",
       " ('deep_learning', 81),\n",
       " ('silicon_valley', 62),\n",
       " ('facial_recognition', 60),\n",
       " ('hate_speech', 60),\n",
       " ('tech_company', 57),\n",
       " ('year_ago', 57),\n",
       " ('neural_net', 45),\n",
       " ('self-driving_car', 39),\n",
       " ('san_francisco', 36),\n",
       " ('computer_science', 35),\n",
       " ('free_energy', 34),\n",
       " ('social_medium', 32),\n",
       " ('ai_researcher', 31),\n",
       " ('past_year', 30),\n",
       " ('computer_scientist', 30),\n",
       " ('training_data', 28)]"
      ]
     },
     "execution_count": 29,
     "metadata": {},
     "output_type": "execute_result"
    }
   ],
   "source": [
    "#Frequency for just bigrams (2 words that appear together frequently)\n",
    "def bigram_freq(text_list, top_n):\n",
    "    bigram_model = Phrases(text_list, min_count=3, threshold=1)\n",
    "    w_bigrams = list(bigram_model[text_list])\n",
    "    flat_w_bigrams = [item for sublist in w_bigrams for item in sublist]\n",
    "    bigrams = [each for each in flat_w_bigrams if '_' in each]\n",
    "    with_counts = Counter(bigrams)\n",
    "    return with_counts.most_common(top_n)\n",
    "\n",
    "bigram_freq(text_list, 20)"
   ]
  }
 ],
 "metadata": {
  "kernelspec": {
   "display_name": "Python 3",
   "language": "python",
   "name": "python3"
  }
 },
 "nbformat": 4,
 "nbformat_minor": 2
}
